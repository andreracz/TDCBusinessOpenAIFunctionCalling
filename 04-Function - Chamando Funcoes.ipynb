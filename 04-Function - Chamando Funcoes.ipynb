{
 "cells": [
  {
   "cell_type": "code",
   "execution_count": 19,
   "metadata": {
    "dotnet_interactive": {
     "language": "csharp"
    },
    "polyglot_notebook": {
     "kernelName": "csharp"
    },
    "vscode": {
     "languageId": "polyglot-notebook"
    }
   },
   "outputs": [
    {
     "data": {
      "text/html": [
       "<div><div></div><div></div><div><strong>Installed Packages</strong><ul><li><span>Azure.AI.OpenAI, 1.0.0-beta.7</span></li></ul></div></div>"
      ]
     },
     "metadata": {},
     "output_type": "display_data"
    }
   ],
   "source": [
    "// Load some helper functions, e.g. to load values from settings.json\n",
    "#!import config/Settings.cs \n",
    "#!import banking/ContaCorrente.cs \n",
    "#!import banking/Boleto.cs \n",
    "#!import banking/BankFunctions.cs \n",
    "#!import functioncalling/FunctionCalling.cs \n",
    "\n",
    "\n",
    "// Import Semantic Kernel\n",
    "#r \"nuget: Azure.AI.OpenAI, 1.0.0-beta.7\"\n",
    "using Azure.AI.OpenAI;\n",
    "var (model, azureEndpoint, apiKey) = Settings.LoadFromFile();\n",
    "\n",
    "\n",
    "var endpoint = new Uri(azureEndpoint);\n",
    "var credentials = new Azure.AzureKeyCredential(apiKey);\n",
    "var openAIClient = new OpenAIClient(endpoint, credentials);"
   ]
  },
  {
   "cell_type": "code",
   "execution_count": 20,
   "metadata": {
    "dotnet_interactive": {
     "language": "csharp"
    },
    "polyglot_notebook": {
     "kernelName": "csharp"
    },
    "vscode": {
     "languageId": "polyglot-notebook"
    }
   },
   "outputs": [],
   "source": [
    "var system = \n",
    "\"\"\" \n",
    "Voce é um assistente bancário que ajuda um cliente a transacionar em usa conta. Seja solicito e educado.\n",
    "\"\"\";"
   ]
  },
  {
   "cell_type": "code",
   "execution_count": 21,
   "metadata": {
    "dotnet_interactive": {
     "language": "csharp"
    },
    "polyglot_notebook": {
     "kernelName": "csharp"
    },
    "vscode": {
     "languageId": "polyglot-notebook"
    }
   },
   "outputs": [],
   "source": [
    "var completionOptions = new ChatCompletionsOptions\n",
    "{\n",
    "    MaxTokens=400,\n",
    "    Temperature=1f,\n",
    "    FrequencyPenalty=0.0f,\n",
    "    PresencePenalty=0.0f,\n",
    "    NucleusSamplingFactor = 0.95f, // Top P\n",
    "};"
   ]
  },
  {
   "cell_type": "code",
   "execution_count": 22,
   "metadata": {
    "dotnet_interactive": {
     "language": "csharp"
    },
    "polyglot_notebook": {
     "kernelName": "csharp"
    },
    "vscode": {
     "languageId": "polyglot-notebook"
    }
   },
   "outputs": [
    {
     "data": {
      "text/html": [
       "<details open=\"open\" class=\"dni-treeview\"><summary><span class=\"dni-code-hint\"><code>[ Azure.AI.OpenAI.ChatMessage ]</code></span></summary><div><table><thead><tr></tr></thead><tbody><tr><td>IsUndefined</td><td><div class=\"dni-plaintext\"><pre>False</pre></div></td></tr><tr><td>Count</td><td><div class=\"dni-plaintext\"><pre>1</pre></div></td></tr><tr><td>IsReadOnly</td><td><div class=\"dni-plaintext\"><pre>False</pre></div></td></tr><tr><td><i>(values)</i></td><td><table><thead><tr><th><i>index</i></th><th>value</th></tr></thead><tbody><tr><td>0</td><td><details class=\"dni-treeview\"><summary><span class=\"dni-code-hint\"><code>Azure.AI.OpenAI.ChatMessage</code></span></summary><div><table><thead><tr></tr></thead><tbody><tr><td>Role</td><td><details class=\"dni-treeview\"><summary><span class=\"dni-code-hint\"><code>system</code></span></summary><div><table><thead><tr></tr></thead><tbody></tbody></table></div></details></td></tr><tr><td>Content</td><td><div class=\"dni-plaintext\"><pre>Voce &#233; um assistente banc&#225;rio que ajuda um cliente a transacionar em usa conta. Seja solicito e educado.</pre></div></td></tr><tr><td>Name</td><td><div class=\"dni-plaintext\"><pre>&lt;null&gt;</pre></div></td></tr><tr><td>FunctionCall</td><td><div class=\"dni-plaintext\"><pre>&lt;null&gt;</pre></div></td></tr><tr><td>AzureExtensionsContext</td><td><div class=\"dni-plaintext\"><pre>&lt;null&gt;</pre></div></td></tr></tbody></table></div></details></td></tr></tbody></table></td></tr></tbody></table></div></details><style>\r\n",
       ".dni-code-hint {\r\n",
       "    font-style: italic;\r\n",
       "    overflow: hidden;\r\n",
       "    white-space: nowrap;\r\n",
       "}\r\n",
       ".dni-treeview {\r\n",
       "    white-space: nowrap;\r\n",
       "}\r\n",
       ".dni-treeview td {\r\n",
       "    vertical-align: top;\r\n",
       "    text-align: start;\r\n",
       "}\r\n",
       "details.dni-treeview {\r\n",
       "    padding-left: 1em;\r\n",
       "}\r\n",
       "table td {\r\n",
       "    text-align: start;\r\n",
       "}\r\n",
       "table tr { \r\n",
       "    vertical-align: top; \r\n",
       "    margin: 0em 0px;\r\n",
       "}\r\n",
       "table tr td pre \r\n",
       "{ \r\n",
       "    vertical-align: top !important; \r\n",
       "    margin: 0em 0px !important;\r\n",
       "} \r\n",
       "table th {\r\n",
       "    text-align: start;\r\n",
       "}\r\n",
       "</style>"
      ]
     },
     "metadata": {},
     "output_type": "display_data"
    }
   ],
   "source": [
    "completionOptions.Messages.Add(new ChatMessage(ChatRole.System, system));\n",
    "\n",
    "completionOptions.Messages"
   ]
  },
  {
   "cell_type": "code",
   "execution_count": 23,
   "metadata": {
    "dotnet_interactive": {
     "language": "csharp"
    },
    "polyglot_notebook": {
     "kernelName": "csharp"
    },
    "vscode": {
     "languageId": "polyglot-notebook"
    }
   },
   "outputs": [
    {
     "data": {
      "text/plain": [
       "Conta Corrente Principal - Saldo: 1000\n",
       "Boletos Pendentes: \n",
       "  - Numero:1 - Valor:450 - Pago:False\n",
       "  - Numero:2 - Valor:150 - Pago:False\n",
       "  - Numero:3 - Valor:1500 - Pago:False\n",
       "Contas Relacionadas: \n",
       "  - Nome: André - Numero:456 - Saldo:0\n",
       "  - Nome: João - Numero:789 - Saldo:0\n"
      ]
     },
     "metadata": {},
     "output_type": "display_data"
    }
   ],
   "source": [
    "FunctionCalling caller = new FunctionCalling();\n",
    "\n",
    "var contaCorrentPrincipal = new ContaCorrente(\"123\");\n",
    "contaCorrentPrincipal.Depositar(1000);\n",
    "\n",
    "Dictionary<string, ContaCorrente> contasCorrentes = new Dictionary<string, ContaCorrente>() {\n",
    "    { \"André\", new ContaCorrente(\"456\") },\n",
    "    { \"João\", new ContaCorrente(\"789\") }\n",
    "};\n",
    "\n",
    "\n",
    "Boleto[] boletos = { Boleto.Criar(\"1\", 450), Boleto.Criar(\"2\", 150) , Boleto.Criar(\"3\", 1500) };\n",
    "\n",
    "BankFunctions bf = new BankFunctions(contaCorrentPrincipal, boletos, contasCorrentes);\n",
    "bf.ToString()"
   ]
  },
  {
   "cell_type": "code",
   "execution_count": 24,
   "metadata": {
    "dotnet_interactive": {
     "language": "csharp"
    },
    "polyglot_notebook": {
     "kernelName": "csharp"
    },
    "vscode": {
     "languageId": "polyglot-notebook"
    }
   },
   "outputs": [
    {
     "data": {
      "text/html": [
       "<table><thead><tr><th><i>index</i></th><th>value</th></tr></thead><tbody><tr><td>0</td><td><details class=\"dni-treeview\"><summary><span class=\"dni-code-hint\"><code>Azure.AI.OpenAI.FunctionDefinition</code></span></summary><div><table><thead><tr></tr></thead><tbody><tr><td>Name</td><td><div class=\"dni-plaintext\"><pre>Saldo</pre></div></td></tr><tr><td>Description</td><td><div class=\"dni-plaintext\"><pre>Obtem o Saldo da Conta corrente do usuario atual</pre></div></td></tr><tr><td>Parameters</td><td><details class=\"dni-treeview\"><summary><span class=\"dni-code-hint\"><code>{ &quot;type&quot;: &quot;object&quot;, &quot;properties&quot;: {}}</code></span></summary><div><table><thead><tr></tr></thead><tbody></tbody></table></div></details></td></tr></tbody></table></div></details></td></tr><tr><td>1</td><td><details class=\"dni-treeview\"><summary><span class=\"dni-code-hint\"><code>Azure.AI.OpenAI.FunctionDefinition</code></span></summary><div><table><thead><tr></tr></thead><tbody><tr><td>Name</td><td><div class=\"dni-plaintext\"><pre>ObtemBoletosPendentes</pre></div></td></tr><tr><td>Description</td><td><div class=\"dni-plaintext\"><pre>Obtem os boletos pendentes do usuario atual</pre></div></td></tr><tr><td>Parameters</td><td><details class=\"dni-treeview\"><summary><span class=\"dni-code-hint\"><code>{ &quot;type&quot;: &quot;object&quot;, &quot;properties&quot;: {}}</code></span></summary><div><table><thead><tr></tr></thead><tbody></tbody></table></div></details></td></tr></tbody></table></div></details></td></tr><tr><td>2</td><td><details class=\"dni-treeview\"><summary><span class=\"dni-code-hint\"><code>Azure.AI.OpenAI.FunctionDefinition</code></span></summary><div><table><thead><tr></tr></thead><tbody><tr><td>Name</td><td><div class=\"dni-plaintext\"><pre>PagarBoleto</pre></div></td></tr><tr><td>Description</td><td><div class=\"dni-plaintext\"><pre>Obtem os boletos pendentes do usuario atual</pre></div></td></tr><tr><td>Parameters</td><td><details class=\"dni-treeview\"><summary><span class=\"dni-code-hint\"><code>{ &quot;type&quot;: &quot;object&quot;, &quot;properties&quot;: {&quot;numeroBoleto&quot;:{&quot;Type&quot;:&quot;string&quot;,&quot;Description&quot;:&quot;Numero do Boleto&quot;}}}</code></span></summary><div><table><thead><tr></tr></thead><tbody></tbody></table></div></details></td></tr></tbody></table></div></details></td></tr><tr><td>3</td><td><details class=\"dni-treeview\"><summary><span class=\"dni-code-hint\"><code>Azure.AI.OpenAI.FunctionDefinition</code></span></summary><div><table><thead><tr></tr></thead><tbody><tr><td>Name</td><td><div class=\"dni-plaintext\"><pre>ObterContaRelacionada</pre></div></td></tr><tr><td>Description</td><td><div class=\"dni-plaintext\"><pre>Obtem os numeros de contas relacionadas ao usuario atual pelo nome ou apelido</pre></div></td></tr><tr><td>Parameters</td><td><details class=\"dni-treeview\"><summary><span class=\"dni-code-hint\"><code>{ &quot;type&quot;: &quot;object&quot;, &quot;properties&quot;: {&quot;nomeConta&quot;:{&quot;Type&quot;:&quot;string&quot;,&quot;Description&quot;:&quot;Nome da Conta&quot;}}}</code></span></summary><div><table><thead><tr></tr></thead><tbody></tbody></table></div></details></td></tr></tbody></table></div></details></td></tr><tr><td>4</td><td><details class=\"dni-treeview\"><summary><span class=\"dni-code-hint\"><code>Azure.AI.OpenAI.FunctionDefinition</code></span></summary><div><table><thead><tr></tr></thead><tbody><tr><td>Name</td><td><div class=\"dni-plaintext\"><pre>Transferir</pre></div></td></tr><tr><td>Description</td><td><div class=\"dni-plaintext\"><pre>Transferir um valor para uma conta relacionada</pre></div></td></tr><tr><td>Parameters</td><td><details class=\"dni-treeview\"><summary><span class=\"dni-code-hint\"><code>{ &quot;type&quot;: &quot;object&quot;, &quot;properties&quot;: {&quot;numeroConta&quot;:{&quot;Type&quot;:&quot;string&quot;,&quot;Description&quot;:&quot;Numero da Conta relacionada&quot;}, &quot;valor&quot;:{&quot;Type&quot;:&quot;string&quot;,&quot;Description&quot;:&quot;Valor a ser transferido&quot;}}}</code></span></summary><div><table><thead><tr></tr></thead><tbody></tbody></table></div></details></td></tr></tbody></table></div></details></td></tr><tr><td>5</td><td><details class=\"dni-treeview\"><summary><span class=\"dni-code-hint\"><code>Azure.AI.OpenAI.FunctionDefinition</code></span></summary><div><table><thead><tr></tr></thead><tbody><tr><td>Name</td><td><div class=\"dni-plaintext\"><pre>ToString</pre></div></td></tr><tr><td>Description</td><td><div class=\"dni-plaintext\"><pre>&lt;null&gt;</pre></div></td></tr><tr><td>Parameters</td><td><details class=\"dni-treeview\"><summary><span class=\"dni-code-hint\"><code>{ &quot;type&quot;: &quot;object&quot;, &quot;properties&quot;: {}}</code></span></summary><div><table><thead><tr></tr></thead><tbody></tbody></table></div></details></td></tr></tbody></table></div></details></td></tr></tbody></table><style>\r\n",
       ".dni-code-hint {\r\n",
       "    font-style: italic;\r\n",
       "    overflow: hidden;\r\n",
       "    white-space: nowrap;\r\n",
       "}\r\n",
       ".dni-treeview {\r\n",
       "    white-space: nowrap;\r\n",
       "}\r\n",
       ".dni-treeview td {\r\n",
       "    vertical-align: top;\r\n",
       "    text-align: start;\r\n",
       "}\r\n",
       "details.dni-treeview {\r\n",
       "    padding-left: 1em;\r\n",
       "}\r\n",
       "table td {\r\n",
       "    text-align: start;\r\n",
       "}\r\n",
       "table tr { \r\n",
       "    vertical-align: top; \r\n",
       "    margin: 0em 0px;\r\n",
       "}\r\n",
       "table tr td pre \r\n",
       "{ \r\n",
       "    vertical-align: top !important; \r\n",
       "    margin: 0em 0px !important;\r\n",
       "} \r\n",
       "table th {\r\n",
       "    text-align: start;\r\n",
       "}\r\n",
       "</style>"
      ]
     },
     "metadata": {},
     "output_type": "display_data"
    }
   ],
   "source": [
    "var funDef = caller.GetDefinitionsFromObject(bf);\n",
    "foreach (var fd in funDef) {\n",
    "    completionOptions.Functions.Add(fd);\n",
    "}\n",
    "\n",
    "funDef"
   ]
  },
  {
   "cell_type": "code",
   "execution_count": 25,
   "metadata": {
    "dotnet_interactive": {
     "language": "csharp"
    },
    "polyglot_notebook": {
     "kernelName": "csharp"
    },
    "vscode": {
     "languageId": "polyglot-notebook"
    }
   },
   "outputs": [],
   "source": [
    "completionOptions.Messages.Add(new ChatMessage(ChatRole.User, \"Pague todos os boletos da minha conta e transfira 100 para o João. Me diga o saldo.\"));\n"
   ]
  },
  {
   "cell_type": "code",
   "execution_count": 26,
   "metadata": {
    "dotnet_interactive": {
     "language": "csharp"
    },
    "polyglot_notebook": {
     "kernelName": "csharp"
    },
    "vscode": {
     "languageId": "polyglot-notebook"
    }
   },
   "outputs": [
    {
     "name": "stdout",
     "output_type": "stream",
     "text": [
      "ExecuteFunction ObtemBoletosPendentes called\n",
      "Arguments: {}\n",
      "Boletos Pendentes: \n",
      "Numero:1 - Valor:450\n",
      "Numero:2 - Valor:150\n",
      "Numero:3 - Valor:1500\n",
      "\n",
      "ExecuteFunction PagarBoleto called\n",
      "Arguments: {\n",
      "\"numeroBoleto\": 1\n",
      "}\n",
      "Parameter numeroBoleto of type String\n",
      "Element: 1\n",
      "Pagar Boleto 1 chamado\n",
      "ExecuteFunction PagarBoleto called\n",
      "Arguments: {\n",
      "\"numeroBoleto\": 2\n",
      "}\n",
      "Parameter numeroBoleto of type String\n",
      "Element: 2\n",
      "Pagar Boleto 2 chamado\n",
      "ExecuteFunction PagarBoleto called\n",
      "Arguments: {\n",
      "\"numeroBoleto\": 3\n",
      "}\n",
      "Parameter numeroBoleto of type String\n",
      "Element: 3\n",
      "Pagar Boleto 3 chamado\n",
      "ExecuteFunction ObterContaRelacionada called\n",
      "Arguments: {\n",
      "\"nomeConta\": \"João\"\n",
      "}\n",
      "Parameter nomeConta of type String\n",
      "Element: João\n",
      "ObterContaRelacionada João chamado\n",
      "ExecuteFunction Transferir called\n",
      "Arguments: {\n",
      "\"numeroConta\": 789,\n",
      "\"valor\": 100\n",
      "}\n",
      "Parameter numeroConta of type String\n",
      "Element: 789\n",
      "Parameter valor of type String\n",
      "Element: 100\n",
      "Transferir 100 para 789 chamado\n",
      "ExecuteFunction Saldo called\n",
      "Arguments: {}\n",
      "Saldo: -1200\n",
      "Todos os seus boletos foram pagos e a transferência de 100 para João foi realizada com sucesso. Porém, observe que seu saldo atual é negativo, estando em -1200. Por favor, certifique-se de adicionar fundos à sua conta para evitar quaisquer taxas de saldo negativo. Se precisar de mais alguma ajuda, estou à disposição!\n"
     ]
    },
    {
     "data": {
      "text/html": [
       "<details open=\"open\" class=\"dni-treeview\"><summary><span class=\"dni-code-hint\"><code>[ Azure.AI.OpenAI.ChatMessage, Azure.AI.OpenAI.ChatMessage, Azure.AI.OpenAI.ChatMessage, Azure.AI.OpenAI.ChatMessage, Azure.AI.OpenAI.ChatMessage, Azure.AI.OpenAI.ChatMessage, Azure.AI.OpenAI.ChatMessage, Azure.AI.OpenAI.ChatMessage, Azure.AI.OpenAI.ChatMessage, Azure.AI.OpenAI.ChatMessage, Azure.AI.OpenAI.ChatMessage, Azure.AI.OpenAI.ChatMessage, Azure.AI.OpenAI.ChatMessage, Azure.AI.OpenAI.ChatMessage, Azure.AI.OpenAI.ChatMessage, Azure.AI.OpenAI.ChatMessage, Azure.AI.OpenAI.ChatMessage ]</code></span></summary><div><table><thead><tr></tr></thead><tbody><tr><td>IsUndefined</td><td><div class=\"dni-plaintext\"><pre>False</pre></div></td></tr><tr><td>Count</td><td><div class=\"dni-plaintext\"><pre>17</pre></div></td></tr><tr><td>IsReadOnly</td><td><div class=\"dni-plaintext\"><pre>False</pre></div></td></tr><tr><td><i>(values)</i></td><td><table><thead><tr><th><i>index</i></th><th>value</th></tr></thead><tbody><tr><td>0</td><td><details class=\"dni-treeview\"><summary><span class=\"dni-code-hint\"><code>Azure.AI.OpenAI.ChatMessage</code></span></summary><div><table><thead><tr></tr></thead><tbody><tr><td>Role</td><td><details class=\"dni-treeview\"><summary><span class=\"dni-code-hint\"><code>system</code></span></summary><div><table><thead><tr></tr></thead><tbody></tbody></table></div></details></td></tr><tr><td>Content</td><td><div class=\"dni-plaintext\"><pre>Voce &#233; um assistente banc&#225;rio que ajuda um cliente a transacionar em usa conta. Seja solicito e educado.</pre></div></td></tr><tr><td>Name</td><td><div class=\"dni-plaintext\"><pre>&lt;null&gt;</pre></div></td></tr><tr><td>FunctionCall</td><td><div class=\"dni-plaintext\"><pre>&lt;null&gt;</pre></div></td></tr><tr><td>AzureExtensionsContext</td><td><div class=\"dni-plaintext\"><pre>&lt;null&gt;</pre></div></td></tr></tbody></table></div></details></td></tr><tr><td>1</td><td><details class=\"dni-treeview\"><summary><span class=\"dni-code-hint\"><code>Azure.AI.OpenAI.ChatMessage</code></span></summary><div><table><thead><tr></tr></thead><tbody><tr><td>Role</td><td><details class=\"dni-treeview\"><summary><span class=\"dni-code-hint\"><code>user</code></span></summary><div><table><thead><tr></tr></thead><tbody></tbody></table></div></details></td></tr><tr><td>Content</td><td><div class=\"dni-plaintext\"><pre>Pague todos os boletos da minha conta e transfira 100 para o Jo&#227;o. Me diga o saldo.</pre></div></td></tr><tr><td>Name</td><td><div class=\"dni-plaintext\"><pre>&lt;null&gt;</pre></div></td></tr><tr><td>FunctionCall</td><td><div class=\"dni-plaintext\"><pre>&lt;null&gt;</pre></div></td></tr><tr><td>AzureExtensionsContext</td><td><div class=\"dni-plaintext\"><pre>&lt;null&gt;</pre></div></td></tr></tbody></table></div></details></td></tr><tr><td>2</td><td><details class=\"dni-treeview\"><summary><span class=\"dni-code-hint\"><code>Azure.AI.OpenAI.ChatMessage</code></span></summary><div><table><thead><tr></tr></thead><tbody><tr><td>Role</td><td><details class=\"dni-treeview\"><summary><span class=\"dni-code-hint\"><code>assistant</code></span></summary><div><table><thead><tr></tr></thead><tbody></tbody></table></div></details></td></tr><tr><td>Content</td><td><div class=\"dni-plaintext\"><pre>&lt;null&gt;</pre></div></td></tr><tr><td>Name</td><td><div class=\"dni-plaintext\"><pre>&lt;null&gt;</pre></div></td></tr><tr><td>FunctionCall</td><td><details class=\"dni-treeview\"><summary><span class=\"dni-code-hint\"><code>Azure.AI.OpenAI.FunctionCall</code></span></summary><div><table><thead><tr></tr></thead><tbody><tr><td>Name</td><td><div class=\"dni-plaintext\"><pre>ObtemBoletosPendentes</pre></div></td></tr><tr><td>Arguments</td><td><div class=\"dni-plaintext\"><pre>{}</pre></div></td></tr></tbody></table></div></details></td></tr><tr><td>AzureExtensionsContext</td><td><div class=\"dni-plaintext\"><pre>&lt;null&gt;</pre></div></td></tr></tbody></table></div></details></td></tr><tr><td>3</td><td><details class=\"dni-treeview\"><summary><span class=\"dni-code-hint\"><code>Azure.AI.OpenAI.ChatMessage</code></span></summary><div><table><thead><tr></tr></thead><tbody><tr><td>Role</td><td><details class=\"dni-treeview\"><summary><span class=\"dni-code-hint\"><code>function</code></span></summary><div><table><thead><tr></tr></thead><tbody></tbody></table></div></details></td></tr><tr><td>Content</td><td><div class=\"dni-plaintext\"><pre>&quot;Boletos Pendentes: \\nNumero:1 - Valor:450\\nNumero:2 - Valor:150\\nNumero:3 - Valor:1500\\n&quot;</pre></div></td></tr><tr><td>Name</td><td><div class=\"dni-plaintext\"><pre>ObtemBoletosPendentes</pre></div></td></tr><tr><td>FunctionCall</td><td><div class=\"dni-plaintext\"><pre>&lt;null&gt;</pre></div></td></tr><tr><td>AzureExtensionsContext</td><td><div class=\"dni-plaintext\"><pre>&lt;null&gt;</pre></div></td></tr></tbody></table></div></details></td></tr><tr><td>4</td><td><details class=\"dni-treeview\"><summary><span class=\"dni-code-hint\"><code>Azure.AI.OpenAI.ChatMessage</code></span></summary><div><table><thead><tr></tr></thead><tbody><tr><td>Role</td><td><details class=\"dni-treeview\"><summary><span class=\"dni-code-hint\"><code>assistant</code></span></summary><div><table><thead><tr></tr></thead><tbody></tbody></table></div></details></td></tr><tr><td>Content</td><td><div class=\"dni-plaintext\"><pre>&lt;null&gt;</pre></div></td></tr><tr><td>Name</td><td><div class=\"dni-plaintext\"><pre>&lt;null&gt;</pre></div></td></tr><tr><td>FunctionCall</td><td><details class=\"dni-treeview\"><summary><span class=\"dni-code-hint\"><code>Azure.AI.OpenAI.FunctionCall</code></span></summary><div><table><thead><tr></tr></thead><tbody><tr><td>Name</td><td><div class=\"dni-plaintext\"><pre>PagarBoleto</pre></div></td></tr><tr><td>Arguments</td><td><div class=\"dni-plaintext\"><pre>{\n",
       "&quot;numeroBoleto&quot;: 1\n",
       "}</pre></div></td></tr></tbody></table></div></details></td></tr><tr><td>AzureExtensionsContext</td><td><div class=\"dni-plaintext\"><pre>&lt;null&gt;</pre></div></td></tr></tbody></table></div></details></td></tr><tr><td>5</td><td><details class=\"dni-treeview\"><summary><span class=\"dni-code-hint\"><code>Azure.AI.OpenAI.ChatMessage</code></span></summary><div><table><thead><tr></tr></thead><tbody><tr><td>Role</td><td><details class=\"dni-treeview\"><summary><span class=\"dni-code-hint\"><code>function</code></span></summary><div><table><thead><tr></tr></thead><tbody></tbody></table></div></details></td></tr><tr><td>Content</td><td><div class=\"dni-plaintext\"><pre>&quot;Boleto 1 pago com sucesso!&quot;</pre></div></td></tr><tr><td>Name</td><td><div class=\"dni-plaintext\"><pre>PagarBoleto</pre></div></td></tr><tr><td>FunctionCall</td><td><div class=\"dni-plaintext\"><pre>&lt;null&gt;</pre></div></td></tr><tr><td>AzureExtensionsContext</td><td><div class=\"dni-plaintext\"><pre>&lt;null&gt;</pre></div></td></tr></tbody></table></div></details></td></tr><tr><td>6</td><td><details class=\"dni-treeview\"><summary><span class=\"dni-code-hint\"><code>Azure.AI.OpenAI.ChatMessage</code></span></summary><div><table><thead><tr></tr></thead><tbody><tr><td>Role</td><td><details class=\"dni-treeview\"><summary><span class=\"dni-code-hint\"><code>assistant</code></span></summary><div><table><thead><tr></tr></thead><tbody></tbody></table></div></details></td></tr><tr><td>Content</td><td><div class=\"dni-plaintext\"><pre>&lt;null&gt;</pre></div></td></tr><tr><td>Name</td><td><div class=\"dni-plaintext\"><pre>&lt;null&gt;</pre></div></td></tr><tr><td>FunctionCall</td><td><details class=\"dni-treeview\"><summary><span class=\"dni-code-hint\"><code>Azure.AI.OpenAI.FunctionCall</code></span></summary><div><table><thead><tr></tr></thead><tbody><tr><td>Name</td><td><div class=\"dni-plaintext\"><pre>PagarBoleto</pre></div></td></tr><tr><td>Arguments</td><td><div class=\"dni-plaintext\"><pre>{\n",
       "&quot;numeroBoleto&quot;: 2\n",
       "}</pre></div></td></tr></tbody></table></div></details></td></tr><tr><td>AzureExtensionsContext</td><td><div class=\"dni-plaintext\"><pre>&lt;null&gt;</pre></div></td></tr></tbody></table></div></details></td></tr><tr><td>7</td><td><details class=\"dni-treeview\"><summary><span class=\"dni-code-hint\"><code>Azure.AI.OpenAI.ChatMessage</code></span></summary><div><table><thead><tr></tr></thead><tbody><tr><td>Role</td><td><details class=\"dni-treeview\"><summary><span class=\"dni-code-hint\"><code>function</code></span></summary><div><table><thead><tr></tr></thead><tbody></tbody></table></div></details></td></tr><tr><td>Content</td><td><div class=\"dni-plaintext\"><pre>&quot;Boleto 2 pago com sucesso!&quot;</pre></div></td></tr><tr><td>Name</td><td><div class=\"dni-plaintext\"><pre>PagarBoleto</pre></div></td></tr><tr><td>FunctionCall</td><td><div class=\"dni-plaintext\"><pre>&lt;null&gt;</pre></div></td></tr><tr><td>AzureExtensionsContext</td><td><div class=\"dni-plaintext\"><pre>&lt;null&gt;</pre></div></td></tr></tbody></table></div></details></td></tr><tr><td>8</td><td><details class=\"dni-treeview\"><summary><span class=\"dni-code-hint\"><code>Azure.AI.OpenAI.ChatMessage</code></span></summary><div><table><thead><tr></tr></thead><tbody><tr><td>Role</td><td><details class=\"dni-treeview\"><summary><span class=\"dni-code-hint\"><code>assistant</code></span></summary><div><table><thead><tr></tr></thead><tbody></tbody></table></div></details></td></tr><tr><td>Content</td><td><div class=\"dni-plaintext\"><pre>&lt;null&gt;</pre></div></td></tr><tr><td>Name</td><td><div class=\"dni-plaintext\"><pre>&lt;null&gt;</pre></div></td></tr><tr><td>FunctionCall</td><td><details class=\"dni-treeview\"><summary><span class=\"dni-code-hint\"><code>Azure.AI.OpenAI.FunctionCall</code></span></summary><div><table><thead><tr></tr></thead><tbody><tr><td>Name</td><td><div class=\"dni-plaintext\"><pre>PagarBoleto</pre></div></td></tr><tr><td>Arguments</td><td><div class=\"dni-plaintext\"><pre>{\n",
       "&quot;numeroBoleto&quot;: 3\n",
       "}</pre></div></td></tr></tbody></table></div></details></td></tr><tr><td>AzureExtensionsContext</td><td><div class=\"dni-plaintext\"><pre>&lt;null&gt;</pre></div></td></tr></tbody></table></div></details></td></tr><tr><td>9</td><td><details class=\"dni-treeview\"><summary><span class=\"dni-code-hint\"><code>Azure.AI.OpenAI.ChatMessage</code></span></summary><div><table><thead><tr></tr></thead><tbody><tr><td>Role</td><td><details class=\"dni-treeview\"><summary><span class=\"dni-code-hint\"><code>function</code></span></summary><div><table><thead><tr></tr></thead><tbody></tbody></table></div></details></td></tr><tr><td>Content</td><td><div class=\"dni-plaintext\"><pre>&quot;Boleto 3 pago com sucesso!&quot;</pre></div></td></tr><tr><td>Name</td><td><div class=\"dni-plaintext\"><pre>PagarBoleto</pre></div></td></tr><tr><td>FunctionCall</td><td><div class=\"dni-plaintext\"><pre>&lt;null&gt;</pre></div></td></tr><tr><td>AzureExtensionsContext</td><td><div class=\"dni-plaintext\"><pre>&lt;null&gt;</pre></div></td></tr></tbody></table></div></details></td></tr><tr><td>10</td><td><details class=\"dni-treeview\"><summary><span class=\"dni-code-hint\"><code>Azure.AI.OpenAI.ChatMessage</code></span></summary><div><table><thead><tr></tr></thead><tbody><tr><td>Role</td><td><details class=\"dni-treeview\"><summary><span class=\"dni-code-hint\"><code>assistant</code></span></summary><div><table><thead><tr></tr></thead><tbody></tbody></table></div></details></td></tr><tr><td>Content</td><td><div class=\"dni-plaintext\"><pre>&lt;null&gt;</pre></div></td></tr><tr><td>Name</td><td><div class=\"dni-plaintext\"><pre>&lt;null&gt;</pre></div></td></tr><tr><td>FunctionCall</td><td><details class=\"dni-treeview\"><summary><span class=\"dni-code-hint\"><code>Azure.AI.OpenAI.FunctionCall</code></span></summary><div><table><thead><tr></tr></thead><tbody><tr><td>Name</td><td><div class=\"dni-plaintext\"><pre>ObterContaRelacionada</pre></div></td></tr><tr><td>Arguments</td><td><div class=\"dni-plaintext\"><pre>{\n",
       "&quot;nomeConta&quot;: &quot;Jo&#227;o&quot;\n",
       "}</pre></div></td></tr></tbody></table></div></details></td></tr><tr><td>AzureExtensionsContext</td><td><div class=\"dni-plaintext\"><pre>&lt;null&gt;</pre></div></td></tr></tbody></table></div></details></td></tr><tr><td>11</td><td><details class=\"dni-treeview\"><summary><span class=\"dni-code-hint\"><code>Azure.AI.OpenAI.ChatMessage</code></span></summary><div><table><thead><tr></tr></thead><tbody><tr><td>Role</td><td><details class=\"dni-treeview\"><summary><span class=\"dni-code-hint\"><code>function</code></span></summary><div><table><thead><tr></tr></thead><tbody></tbody></table></div></details></td></tr><tr><td>Content</td><td><div class=\"dni-plaintext\"><pre>&quot;Conta Jo\\u00E3o encontrada! N\\u00FAmero da Conta: 789&quot;</pre></div></td></tr><tr><td>Name</td><td><div class=\"dni-plaintext\"><pre>ObterContaRelacionada</pre></div></td></tr><tr><td>FunctionCall</td><td><div class=\"dni-plaintext\"><pre>&lt;null&gt;</pre></div></td></tr><tr><td>AzureExtensionsContext</td><td><div class=\"dni-plaintext\"><pre>&lt;null&gt;</pre></div></td></tr></tbody></table></div></details></td></tr><tr><td>12</td><td><details class=\"dni-treeview\"><summary><span class=\"dni-code-hint\"><code>Azure.AI.OpenAI.ChatMessage</code></span></summary><div><table><thead><tr></tr></thead><tbody><tr><td>Role</td><td><details class=\"dni-treeview\"><summary><span class=\"dni-code-hint\"><code>assistant</code></span></summary><div><table><thead><tr></tr></thead><tbody></tbody></table></div></details></td></tr><tr><td>Content</td><td><div class=\"dni-plaintext\"><pre>&lt;null&gt;</pre></div></td></tr><tr><td>Name</td><td><div class=\"dni-plaintext\"><pre>&lt;null&gt;</pre></div></td></tr><tr><td>FunctionCall</td><td><details class=\"dni-treeview\"><summary><span class=\"dni-code-hint\"><code>Azure.AI.OpenAI.FunctionCall</code></span></summary><div><table><thead><tr></tr></thead><tbody><tr><td>Name</td><td><div class=\"dni-plaintext\"><pre>Transferir</pre></div></td></tr><tr><td>Arguments</td><td><div class=\"dni-plaintext\"><pre>{\n",
       "&quot;numeroConta&quot;: 789,\n",
       "&quot;valor&quot;: 100\n",
       "}</pre></div></td></tr></tbody></table></div></details></td></tr><tr><td>AzureExtensionsContext</td><td><div class=\"dni-plaintext\"><pre>&lt;null&gt;</pre></div></td></tr></tbody></table></div></details></td></tr><tr><td>13</td><td><details class=\"dni-treeview\"><summary><span class=\"dni-code-hint\"><code>Azure.AI.OpenAI.ChatMessage</code></span></summary><div><table><thead><tr></tr></thead><tbody><tr><td>Role</td><td><details class=\"dni-treeview\"><summary><span class=\"dni-code-hint\"><code>function</code></span></summary><div><table><thead><tr></tr></thead><tbody></tbody></table></div></details></td></tr><tr><td>Content</td><td><div class=\"dni-plaintext\"><pre>&quot;Transferencia de 100 para 789 realizada com sucesso!&quot;</pre></div></td></tr><tr><td>Name</td><td><div class=\"dni-plaintext\"><pre>Transferir</pre></div></td></tr><tr><td>FunctionCall</td><td><div class=\"dni-plaintext\"><pre>&lt;null&gt;</pre></div></td></tr><tr><td>AzureExtensionsContext</td><td><div class=\"dni-plaintext\"><pre>&lt;null&gt;</pre></div></td></tr></tbody></table></div></details></td></tr><tr><td>14</td><td><details class=\"dni-treeview\"><summary><span class=\"dni-code-hint\"><code>Azure.AI.OpenAI.ChatMessage</code></span></summary><div><table><thead><tr></tr></thead><tbody><tr><td>Role</td><td><details class=\"dni-treeview\"><summary><span class=\"dni-code-hint\"><code>assistant</code></span></summary><div><table><thead><tr></tr></thead><tbody></tbody></table></div></details></td></tr><tr><td>Content</td><td><div class=\"dni-plaintext\"><pre>&lt;null&gt;</pre></div></td></tr><tr><td>Name</td><td><div class=\"dni-plaintext\"><pre>&lt;null&gt;</pre></div></td></tr><tr><td>FunctionCall</td><td><details class=\"dni-treeview\"><summary><span class=\"dni-code-hint\"><code>Azure.AI.OpenAI.FunctionCall</code></span></summary><div><table><thead><tr></tr></thead><tbody><tr><td>Name</td><td><div class=\"dni-plaintext\"><pre>Saldo</pre></div></td></tr><tr><td>Arguments</td><td><div class=\"dni-plaintext\"><pre>{}</pre></div></td></tr></tbody></table></div></details></td></tr><tr><td>AzureExtensionsContext</td><td><div class=\"dni-plaintext\"><pre>&lt;null&gt;</pre></div></td></tr></tbody></table></div></details></td></tr><tr><td>15</td><td><details class=\"dni-treeview\"><summary><span class=\"dni-code-hint\"><code>Azure.AI.OpenAI.ChatMessage</code></span></summary><div><table><thead><tr></tr></thead><tbody><tr><td>Role</td><td><details class=\"dni-treeview\"><summary><span class=\"dni-code-hint\"><code>function</code></span></summary><div><table><thead><tr></tr></thead><tbody></tbody></table></div></details></td></tr><tr><td>Content</td><td><div class=\"dni-plaintext\"><pre>&quot;-1200&quot;</pre></div></td></tr><tr><td>Name</td><td><div class=\"dni-plaintext\"><pre>Saldo</pre></div></td></tr><tr><td>FunctionCall</td><td><div class=\"dni-plaintext\"><pre>&lt;null&gt;</pre></div></td></tr><tr><td>AzureExtensionsContext</td><td><div class=\"dni-plaintext\"><pre>&lt;null&gt;</pre></div></td></tr></tbody></table></div></details></td></tr><tr><td>16</td><td><details class=\"dni-treeview\"><summary><span class=\"dni-code-hint\"><code>Azure.AI.OpenAI.ChatMessage</code></span></summary><div><table><thead><tr></tr></thead><tbody><tr><td>Role</td><td><details class=\"dni-treeview\"><summary><span class=\"dni-code-hint\"><code>assistant</code></span></summary><div><table><thead><tr></tr></thead><tbody></tbody></table></div></details></td></tr><tr><td>Content</td><td><div class=\"dni-plaintext\"><pre>Todos os seus boletos foram pagos e a transfer&#234;ncia de 100 para Jo&#227;o foi realizada com sucesso. Por&#233;m, observe que seu saldo atual &#233; negativo, estando em -1200. Por favor, certifique-se de adicionar fundos &#224; sua conta para evitar quaisquer taxas de saldo negativo. Se precisar de mais alguma ajuda, estou &#224; disposi&#231;&#227;o!</pre></div></td></tr><tr><td>Name</td><td><div class=\"dni-plaintext\"><pre>&lt;null&gt;</pre></div></td></tr><tr><td>FunctionCall</td><td><div class=\"dni-plaintext\"><pre>&lt;null&gt;</pre></div></td></tr><tr><td>AzureExtensionsContext</td><td><div class=\"dni-plaintext\"><pre>&lt;null&gt;</pre></div></td></tr></tbody></table></div></details></td></tr></tbody></table></td></tr></tbody></table></div></details><style>\r\n",
       ".dni-code-hint {\r\n",
       "    font-style: italic;\r\n",
       "    overflow: hidden;\r\n",
       "    white-space: nowrap;\r\n",
       "}\r\n",
       ".dni-treeview {\r\n",
       "    white-space: nowrap;\r\n",
       "}\r\n",
       ".dni-treeview td {\r\n",
       "    vertical-align: top;\r\n",
       "    text-align: start;\r\n",
       "}\r\n",
       "details.dni-treeview {\r\n",
       "    padding-left: 1em;\r\n",
       "}\r\n",
       "table td {\r\n",
       "    text-align: start;\r\n",
       "}\r\n",
       "table tr { \r\n",
       "    vertical-align: top; \r\n",
       "    margin: 0em 0px;\r\n",
       "}\r\n",
       "table tr td pre \r\n",
       "{ \r\n",
       "    vertical-align: top !important; \r\n",
       "    margin: 0em 0px !important;\r\n",
       "} \r\n",
       "table th {\r\n",
       "    text-align: start;\r\n",
       "}\r\n",
       "</style>"
      ]
     },
     "metadata": {},
     "output_type": "display_data"
    }
   ],
   "source": [
    "do {\n",
    "var response = await openAIClient.GetChatCompletionsAsync(\n",
    "            model,\n",
    "            completionOptions);\n",
    "\n",
    "var responseChoice = response.Value.Choices[0];\n",
    " if (responseChoice.FinishReason == CompletionsFinishReason.FunctionCall)\n",
    "{\n",
    "            // Include the FunctionCall message in the conversation history\n",
    "            completionOptions.Messages.Add(responseChoice.Message);\n",
    "            var funcResp = caller.ExecuteFunction(responseChoice.Message.FunctionCall, bf);\n",
    "            completionOptions.Messages.Add(new ChatMessage() { Role = ChatRole.Function, Content = funcResp, Name=responseChoice.Message.FunctionCall.Name});\n",
    "} else {\n",
    "    completionOptions.Messages.Add(responseChoice.Message);\n",
    "    Console.WriteLine(responseChoice.Message.Content);\n",
    "    break;\n",
    "}\n",
    "\n",
    "}while(true);\n",
    "completionOptions.Messages\n"
   ]
  },
  {
   "cell_type": "code",
   "execution_count": 27,
   "metadata": {
    "dotnet_interactive": {
     "language": "csharp"
    },
    "polyglot_notebook": {
     "kernelName": "csharp"
    },
    "vscode": {
     "languageId": "polyglot-notebook"
    }
   },
   "outputs": [
    {
     "data": {
      "text/plain": [
       "Conta Corrente Principal - Saldo: -1200\n",
       "Boletos Pendentes: \n",
       "  - Numero:1 - Valor:450 - Pago:True\n",
       "  - Numero:2 - Valor:150 - Pago:True\n",
       "  - Numero:3 - Valor:1500 - Pago:True\n",
       "Contas Relacionadas: \n",
       "  - Nome: André - Numero:456 - Saldo:0\n",
       "  - Nome: João - Numero:789 - Saldo:100\n"
      ]
     },
     "metadata": {},
     "output_type": "display_data"
    }
   ],
   "source": [
    "bf.ToString()"
   ]
  }
 ],
 "metadata": {
  "language_info": {
   "name": "python"
  },
  "orig_nbformat": 4
 },
 "nbformat": 4,
 "nbformat_minor": 2
}
