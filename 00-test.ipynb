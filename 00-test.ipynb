{
 "cells": [
  {
   "cell_type": "code",
   "execution_count": 1,
   "metadata": {
    "dotnet_interactive": {
     "language": "csharp"
    },
    "polyglot_notebook": {
     "kernelName": "csharp"
    },
    "vscode": {
     "languageId": "polyglot-notebook"
    }
   },
   "outputs": [
    {
     "data": {
      "text/html": [
       "<div><div></div><div></div><div><strong>Installed Packages</strong><ul><li><span>Azure.AI.OpenAI, 1.0.0-beta.7</span></li></ul></div></div>"
      ]
     },
     "metadata": {},
     "output_type": "display_data"
    }
   ],
   "source": [
    "// Load some helper functions, e.g. to load values from settings.json\n",
    "#!import config/Settings.cs\n",
    "\n",
    "// Import Semantic Kernel\n",
    "#r \"nuget: Azure.AI.OpenAI, 1.0.0-beta.7\"\n",
    "using Azure.AI.OpenAI;\n",
    "var (model, azureEndpoint, apiKey) = Settings.LoadFromFile();\n",
    "\n",
    "\n",
    "var endpoint = new Uri(azureEndpoint);\n",
    "var credentials = new Azure.AzureKeyCredential(apiKey);\n",
    "var openAIClient = new OpenAIClient(endpoint, credentials);"
   ]
  },
  {
   "cell_type": "code",
   "execution_count": 2,
   "metadata": {
    "dotnet_interactive": {
     "language": "csharp"
    },
    "polyglot_notebook": {
     "kernelName": "csharp"
    },
    "vscode": {
     "languageId": "polyglot-notebook"
    }
   },
   "outputs": [],
   "source": [
    "var system = \n",
    "\"\"\" \n",
    "Você é um assistente virtual que ajuda as pessoas a encontrar um restaurante e fazer uma reserva.\n",
    "\"\"\";"
   ]
  },
  {
   "cell_type": "code",
   "execution_count": 3,
   "metadata": {
    "dotnet_interactive": {
     "language": "csharp"
    },
    "polyglot_notebook": {
     "kernelName": "csharp"
    },
    "vscode": {
     "languageId": "polyglot-notebook"
    }
   },
   "outputs": [],
   "source": [
    "var completionOptions = new ChatCompletionsOptions\n",
    "{\n",
    "    MaxTokens=400,\n",
    "    Temperature=1f,\n",
    "    FrequencyPenalty=0.0f,\n",
    "    PresencePenalty=0.0f,\n",
    "    NucleusSamplingFactor = 0.95f // Top P\n",
    "};"
   ]
  },
  {
   "cell_type": "code",
   "execution_count": 4,
   "metadata": {
    "dotnet_interactive": {
     "language": "csharp"
    },
    "polyglot_notebook": {
     "kernelName": "csharp"
    },
    "vscode": {
     "languageId": "polyglot-notebook"
    }
   },
   "outputs": [
    {
     "data": {
      "text/html": [
       "<details open=\"open\" class=\"dni-treeview\"><summary><span class=\"dni-code-hint\"><code>[ Azure.AI.OpenAI.ChatMessage ]</code></span></summary><div><table><thead><tr></tr></thead><tbody><tr><td>IsUndefined</td><td><div class=\"dni-plaintext\"><pre>False</pre></div></td></tr><tr><td>Count</td><td><div class=\"dni-plaintext\"><pre>1</pre></div></td></tr><tr><td>IsReadOnly</td><td><div class=\"dni-plaintext\"><pre>False</pre></div></td></tr><tr><td><i>(values)</i></td><td><table><thead><tr><th><i>index</i></th><th>value</th></tr></thead><tbody><tr><td>0</td><td><details class=\"dni-treeview\"><summary><span class=\"dni-code-hint\"><code>Azure.AI.OpenAI.ChatMessage</code></span></summary><div><table><thead><tr></tr></thead><tbody><tr><td>Role</td><td><details class=\"dni-treeview\"><summary><span class=\"dni-code-hint\"><code>system</code></span></summary><div><table><thead><tr></tr></thead><tbody></tbody></table></div></details></td></tr><tr><td>Content</td><td><div class=\"dni-plaintext\"><pre>Voc&#234; &#233; um assistente virtual que ajuda as pessoas a encontrar um restaurante e fazer uma reserva.</pre></div></td></tr><tr><td>Name</td><td><div class=\"dni-plaintext\"><pre>&lt;null&gt;</pre></div></td></tr><tr><td>FunctionCall</td><td><div class=\"dni-plaintext\"><pre>&lt;null&gt;</pre></div></td></tr><tr><td>AzureExtensionsContext</td><td><div class=\"dni-plaintext\"><pre>&lt;null&gt;</pre></div></td></tr></tbody></table></div></details></td></tr></tbody></table></td></tr></tbody></table></div></details><style>\r\n",
       ".dni-code-hint {\r\n",
       "    font-style: italic;\r\n",
       "    overflow: hidden;\r\n",
       "    white-space: nowrap;\r\n",
       "}\r\n",
       ".dni-treeview {\r\n",
       "    white-space: nowrap;\r\n",
       "}\r\n",
       ".dni-treeview td {\r\n",
       "    vertical-align: top;\r\n",
       "    text-align: start;\r\n",
       "}\r\n",
       "details.dni-treeview {\r\n",
       "    padding-left: 1em;\r\n",
       "}\r\n",
       "table td {\r\n",
       "    text-align: start;\r\n",
       "}\r\n",
       "table tr { \r\n",
       "    vertical-align: top; \r\n",
       "    margin: 0em 0px;\r\n",
       "}\r\n",
       "table tr td pre \r\n",
       "{ \r\n",
       "    vertical-align: top !important; \r\n",
       "    margin: 0em 0px !important;\r\n",
       "} \r\n",
       "table th {\r\n",
       "    text-align: start;\r\n",
       "}\r\n",
       "</style>"
      ]
     },
     "metadata": {},
     "output_type": "display_data"
    }
   ],
   "source": [
    "completionOptions.Messages.Add(new ChatMessage(ChatRole.System, system));\n",
    "\n",
    "completionOptions.Messages"
   ]
  },
  {
   "cell_type": "code",
   "execution_count": 5,
   "metadata": {
    "dotnet_interactive": {
     "language": "csharp"
    },
    "polyglot_notebook": {
     "kernelName": "csharp"
    },
    "vscode": {
     "languageId": "polyglot-notebook"
    }
   },
   "outputs": [],
   "source": [
    "completionOptions.Messages.Add(new ChatMessage(ChatRole.User, \"Olá\"));\n",
    "ChatCompletions response = await openAIClient.GetChatCompletionsAsync(model,completionOptions);\n"
   ]
  },
  {
   "cell_type": "code",
   "execution_count": 6,
   "metadata": {
    "dotnet_interactive": {
     "language": "csharp"
    },
    "polyglot_notebook": {
     "kernelName": "csharp"
    },
    "vscode": {
     "languageId": "polyglot-notebook"
    }
   },
   "outputs": [
    {
     "data": {
      "text/plain": [
       "Olá! Como posso ajudá-lo hoje? Você está procurando um restaurante para jantar ou quer fazer uma reserva?"
      ]
     },
     "metadata": {},
     "output_type": "display_data"
    }
   ],
   "source": [
    "completionOptions.Messages.Add(response.Choices[0].Message);\n",
    "response.Choices[0].Message.Content\n"
   ]
  },
  {
   "cell_type": "code",
   "execution_count": 7,
   "metadata": {
    "dotnet_interactive": {
     "language": "csharp"
    },
    "polyglot_notebook": {
     "kernelName": "csharp"
    },
    "vscode": {
     "languageId": "polyglot-notebook"
    }
   },
   "outputs": [
    {
     "data": {
      "text/plain": [
       "Ótimo! Aqui estão algumas opções de restaurantes mexicanos em São Paulo:\n",
       "\n",
       "1. La Sabrosa Taqueria: Localizado em Pinheiros, é conhecido pelas suas autênticas tacos e margaritas.\n",
       "   \n",
       "2. La Guapa Empanadas: Também em Pinheiros, este lugar é famoso pelas suas empanadas e ambiente acolhedor.\n",
       "\n",
       "3. Si Señor: Este é um favorito na cidade e tem vários locais, incluindo Pinheiros, Itaim Bibi e Alphaville.\n",
       "\n",
       "4. Obá Restaurante: Localizado em Jardim Paulista, este restaurante combina influências mexicanas, tailandesas e brasileiras.\n",
       "\n",
       "5. Dedo de la Chica: Se você estiver na Vila Madalena, este é um bom lugar para ir. É conhecido pela sua tequila e tacos.\n",
       "\n",
       "Você quer que eu faça uma reserva para você em algum desses restaurantes?"
      ]
     },
     "metadata": {},
     "output_type": "display_data"
    }
   ],
   "source": [
    "completionOptions.Messages.Add(new ChatMessage(ChatRole.User, \"Quero um restaurante mexicano em São Paulo\"));\n",
    "ChatCompletions response = await openAIClient.GetChatCompletionsAsync(model,completionOptions);\n",
    "completionOptions.Messages.Add(response.Choices[0].Message);\n",
    "response.Choices[0].Message.Content"
   ]
  },
  {
   "cell_type": "code",
   "execution_count": 28,
   "metadata": {
    "dotnet_interactive": {
     "language": "csharp"
    },
    "polyglot_notebook": {
     "kernelName": "csharp"
    },
    "vscode": {
     "languageId": "polyglot-notebook"
    }
   },
   "outputs": [
    {
     "data": {
      "text/plain": [
       "Desculpe por qualquer confusão, mas como sou um assistente virtual, não tenho a capacidade de fazer reservas diretamente. No entanto, você pode ligar para o restaurante La Sabrosa Taqueria no número (11) 3262-2215 ou acessar o site e fazer sua reserva online, caso este serviço esteja disponível. \n",
       "\n",
       "Por favor, lembre-se de mencionar o horário, a data e o número de pessoas para sua reserva. Espero que você tenha uma ótima experiência de jantar!"
      ]
     },
     "metadata": {},
     "output_type": "display_data"
    }
   ],
   "source": [
    "completionOptions.Messages.Add(new ChatMessage(ChatRole.User, \"Sim, no La Sabrosa, para 4 pessoas, amanhã as 20h00\"));\n",
    "ChatCompletions response = await openAIClient.GetChatCompletionsAsync(model,completionOptions);\n",
    "completionOptions.Messages.Add(response.Choices[0].Message);\n",
    "response.Choices[0].Message.Content"
   ]
  }
 ],
 "metadata": {
  "language_info": {
   "name": "python"
  },
  "orig_nbformat": 4
 },
 "nbformat": 4,
 "nbformat_minor": 2
}
